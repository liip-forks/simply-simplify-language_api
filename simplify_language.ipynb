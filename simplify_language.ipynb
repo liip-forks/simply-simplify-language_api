{
 "cells": [
  {
   "cell_type": "code",
   "execution_count": 2,
   "metadata": {},
   "outputs": [
    {
     "ename": "ModuleNotFoundError",
     "evalue": "No module named 'openai'",
     "output_type": "error",
     "traceback": [
      "\u001b[0;31m---------------------------------------------------------------------------\u001b[0m",
      "\u001b[0;31mModuleNotFoundError\u001b[0m                       Traceback (most recent call last)",
      "Cell \u001b[0;32mIn[2], line 1\u001b[0m\n\u001b[0;32m----> 1\u001b[0m \u001b[38;5;28;01mfrom\u001b[39;00m \u001b[38;5;21;01msimplifier\u001b[39;00m\u001b[38;5;21;01m.\u001b[39;00m\u001b[38;5;21;01mcore\u001b[39;00m \u001b[38;5;28;01mimport\u001b[39;00m simplify_text\n\u001b[1;32m      2\u001b[0m \u001b[38;5;28;01mimport\u001b[39;00m \u001b[38;5;21;01mrequests\u001b[39;00m\n",
      "File \u001b[0;32m~/Liip/simply-simplify-language_api/simplifier/core.py:4\u001b[0m\n\u001b[1;32m      2\u001b[0m \u001b[38;5;28;01mimport\u001b[39;00m \u001b[38;5;21;01mre\u001b[39;00m\n\u001b[1;32m      3\u001b[0m \u001b[38;5;28;01mfrom\u001b[39;00m \u001b[38;5;21;01mdotenv\u001b[39;00m \u001b[38;5;28;01mimport\u001b[39;00m load_dotenv\n\u001b[0;32m----> 4\u001b[0m \u001b[38;5;28;01mfrom\u001b[39;00m \u001b[38;5;21;01mopenai\u001b[39;00m \u001b[38;5;28;01mimport\u001b[39;00m OpenAI\n\u001b[1;32m      6\u001b[0m \u001b[38;5;28;01mfrom\u001b[39;00m \u001b[38;5;21;01msimplifier\u001b[39;00m\u001b[38;5;21;01m.\u001b[39;00m\u001b[38;5;21;01mutils_prompts\u001b[39;00m \u001b[38;5;28;01mimport\u001b[39;00m (\n\u001b[1;32m      7\u001b[0m     SYSTEM_MESSAGE_ES,\n\u001b[1;32m      8\u001b[0m     SYSTEM_MESSAGE_LS,\n\u001b[0;32m   (...)\u001b[0m\n\u001b[1;32m     13\u001b[0m     OPENAI_TEMPLATE_LS,\n\u001b[1;32m     14\u001b[0m )\n\u001b[1;32m     16\u001b[0m OPENAI_TEMPLATES \u001b[38;5;241m=\u001b[39m [\n\u001b[1;32m     17\u001b[0m     OPENAI_TEMPLATE_ES,\n\u001b[1;32m     18\u001b[0m     OPENAI_TEMPLATE_LS,\n\u001b[1;32m     19\u001b[0m ]\n",
      "\u001b[0;31mModuleNotFoundError\u001b[0m: No module named 'openai'"
     ]
    }
   ],
   "source": [
    "from simplifier.core import simplify_text\n",
    "import requests"
   ]
  },
  {
   "cell_type": "code",
   "execution_count": 2,
   "metadata": {},
   "outputs": [],
   "source": [
    "test_text = \"\"\"Als Vernehmlassungsverfahren wird diejenige Phase innerhalb des Vorverfahrens der Gesetzgebung bezeichnet, in der Vorhaben des Bundes von erheblicher politischer, finanzieller, wirtschaftlicher, ökologischer, sozialer oder kultureller Tragweite auf ihre sachliche Richtigkeit, Vollzugstauglichkeit und Akzeptanz hin geprüft werden. \n",
    "\n",
    "Die Vorlage wird zu diesem Zweck den Kantonen, den in der Bundesversammlung vertretenen Parteien, den Dachverbänden der Gemeinden, Städte und der Berggebiete, den Dachverbänden der Wirtschaft sowie weiteren, im Einzelfall interessierten Kreisen unterbreitet.\"\"\""
   ]
  },
  {
   "cell_type": "markdown",
   "metadata": {},
   "source": [
    "# Test function"
   ]
  },
  {
   "cell_type": "code",
   "execution_count": 3,
   "metadata": {},
   "outputs": [
    {
     "name": "stdout",
     "output_type": "stream",
     "text": [
      "Das Vernehmlassungsverfahren ist ein Teil vom Gesetzmachen. \n",
      "\n",
      "In dieser Phase prüft der Bund wichtige Pläne. Diese Pläne können politisch, finanziell, wirtschaftlich, ökologisch, sozial oder kulturell wichtig sein. \n",
      "\n",
      "Der Bund schaut, ob die Pläne richtig sind. Er prüft, ob man sie umsetzen kann und ob die Menschen sie gut finden. \n",
      "\n",
      "Der Bund gibt die Pläne den Kantonen, den Parteien im Parlament und den grossen Verbänden. Dazu gehören die Gemeinden, Städte und Berggebiete. Auch die grossen Wirtschaftsverbände bekommen die Pläne. \n",
      "\n",
      "Manchmal bekommen auch andere Gruppen die Pläne. Diese Gruppen sind dann besonders interessiert.\n"
     ]
    }
   ],
   "source": [
    "result = simplify_text(test_text)\n",
    "print(result)"
   ]
  },
  {
   "cell_type": "code",
   "execution_count": 4,
   "metadata": {},
   "outputs": [
    {
     "name": "stdout",
     "output_type": "stream",
     "text": [
      "Das Vernehmlassungsverfahren ist ein Teil der Gesetzgebung.\n",
      "\n",
      "Im Vernehmlassungsverfahren prüft der Bund neue Gesetze.\n",
      "\n",
      "Der Bund prüft, ob die neuen Gesetze richtig sind.\n",
      "\n",
      "Der Bund prüft, ob die neuen Gesetze umsetzbar sind.\n",
      "\n",
      "Der Bund prüft, ob die neuen Gesetze akzeptiert werden.\n",
      "\n",
      "Der Bund fragt dazu viele Gruppen nach ihrer Meinung.\n",
      "\n",
      "Der Bund fragt die Kantone.\n",
      "\n",
      "Der Bund fragt die Parteien im Parlament.\n",
      "\n",
      "Der Bund fragt die Dach-Verbände von Städten und Gemeinden.\n",
      "\n",
      "Der Bund fragt die Dach-Verbände der Wirtschaft.\n",
      "\n",
      "Der Bund fragt weitere interessierte Gruppen.\n",
      "\n",
      "Diese Gruppen geben ihre Meinung zu den neuen Gesetzen.\n"
     ]
    }
   ],
   "source": [
    "result = simplify_text(test_text, leichte_sprache=True)\n",
    "print(result)"
   ]
  },
  {
   "cell_type": "markdown",
   "metadata": {},
   "source": [
    "# Test FastAPI application"
   ]
  },
  {
   "cell_type": "code",
   "execution_count": 1,
   "metadata": {},
   "outputs": [
    {
     "ename": "NameError",
     "evalue": "name 'requests' is not defined",
     "output_type": "error",
     "traceback": [
      "\u001b[0;31m---------------------------------------------------------------------------\u001b[0m",
      "\u001b[0;31mNameError\u001b[0m                                 Traceback (most recent call last)",
      "Cell \u001b[0;32mIn[1], line 1\u001b[0m\n\u001b[0;32m----> 1\u001b[0m response \u001b[38;5;241m=\u001b[39m requests\u001b[38;5;241m.\u001b[39mpost(\n\u001b[1;32m      2\u001b[0m     \u001b[38;5;124m\"\u001b[39m\u001b[38;5;124mhttp://localhost:8000/\u001b[39m\u001b[38;5;124m\"\u001b[39m, json\u001b[38;5;241m=\u001b[39m{\u001b[38;5;124m\"\u001b[39m\u001b[38;5;124mtext\u001b[39m\u001b[38;5;124m\"\u001b[39m: test_text, \u001b[38;5;124m\"\u001b[39m\u001b[38;5;124mleichte_sprache\u001b[39m\u001b[38;5;124m\"\u001b[39m: \u001b[38;5;28;01mFalse\u001b[39;00m}\n\u001b[1;32m      3\u001b[0m )\n\u001b[1;32m      4\u001b[0m \u001b[38;5;28mprint\u001b[39m(response\u001b[38;5;241m.\u001b[39mjson()[\u001b[38;5;124m\"\u001b[39m\u001b[38;5;124msimplified_text\u001b[39m\u001b[38;5;124m\"\u001b[39m])\n",
      "\u001b[0;31mNameError\u001b[0m: name 'requests' is not defined"
     ]
    }
   ],
   "source": [
    "response = requests.post(\n",
    "    \"http://localhost:8000/\", json={\"text\": test_text, \"leichte_sprache\": False}\n",
    ")\n",
    "print(response.json()[\"simplified_text\"])"
   ]
  },
  {
   "cell_type": "code",
   "execution_count": 6,
   "metadata": {},
   "outputs": [
    {
     "name": "stdout",
     "output_type": "stream",
     "text": [
      "Was ist ein Vernehmlassungsverfahren?\n",
      "\n",
      "Ein Vernehmlassungsverfahren ist ein Teil vom Vorverfahren. \n",
      "\n",
      "Das Vorverfahren gehört zur Gesetzgebung.\n",
      "\n",
      "Warum gibt es ein Vernehmlassungsverfahren?\n",
      "\n",
      "Der Bund will prüfen: \n",
      "\n",
      "- Ist ein Vorhaben richtig?\n",
      "- Kann man das Vorhaben umsetzen?\n",
      "- Finden die Menschen das Vorhaben gut?\n",
      "\n",
      "Wer prüft das Vorhaben?\n",
      "\n",
      "Der Bund gibt die Vorlage an viele Gruppen. \n",
      "\n",
      "Diese Gruppen sind:\n",
      "\n",
      "- die Kantone\n",
      "- die Parteien im Parlament\n",
      "- die Dach-Verbände von Gemeinden und Städten\n",
      "- die Dach-Verbände der Wirtschaft\n",
      "- andere interessierte Gruppen\n"
     ]
    }
   ],
   "source": [
    "response = requests.post(\n",
    "    \"http://localhost:8000/\", json={\"text\": test_text, \"leichte_sprache\": True}\n",
    ")\n",
    "print(response.json()[\"simplified_text\"])"
   ]
  }
 ],
 "metadata": {
  "kernelspec": {
   "display_name": "Python 3 (ipykernel)",
   "language": "python",
   "name": "python3"
  },
  "language_info": {
   "codemirror_mode": {
    "name": "ipython",
    "version": 3
   },
   "file_extension": ".py",
   "mimetype": "text/x-python",
   "name": "python",
   "nbconvert_exporter": "python",
   "pygments_lexer": "ipython3",
   "version": "3.12.7"
  }
 },
 "nbformat": 4,
 "nbformat_minor": 4
}
